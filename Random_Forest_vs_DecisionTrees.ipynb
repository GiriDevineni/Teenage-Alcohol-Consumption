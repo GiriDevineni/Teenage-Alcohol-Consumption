{
 "cells": [
  {
   "cell_type": "code",
   "execution_count": 1,
   "id": "61306c94",
   "metadata": {},
   "outputs": [],
   "source": [
    "# Importing necessary libraries\n",
    "import pandas as pd\n",
    "import numpy as np\n",
    "import matplotlib.pyplot as plt\n",
    "%matplotlib inline\n",
    "import seaborn as sns\n",
    "\n",
    "from sklearn.preprocessing import MinMaxScaler\n",
    "from sklearn.model_selection import train_test_split\n",
    "from sklearn.feature_selection import SelectKBest, f_classif\n",
    "from sklearn.neighbors import KNeighborsClassifier\n",
    "from sklearn import metrics\n",
    "from sklearn.linear_model import LogisticRegression\n",
    "from sklearn.tree import DecisionTreeClassifier \n",
    "from sklearn.ensemble import RandomForestClassifier\n",
    "from sklearn.metrics import accuracy_score,confusion_matrix,recall_score,precision_score\n",
    "from sklearn.naive_bayes import GaussianNB\n"
   ]
  },
  {
   "cell_type": "code",
   "execution_count": 2,
   "id": "2b947b6b",
   "metadata": {},
   "outputs": [],
   "source": [
    "# Loading dataset\n",
    "df = pd.read_csv('final_dataset.csv')\n"
   ]
  },
  {
   "cell_type": "code",
   "execution_count": 3,
   "id": "c954eba1",
   "metadata": {},
   "outputs": [],
   "source": [
    "df = df[(df['age'] <20)]"
   ]
  },
  {
   "cell_type": "code",
   "execution_count": 4,
   "id": "d21df480",
   "metadata": {},
   "outputs": [],
   "source": [
    "df = df[500:748]\n"
   ]
  },
  {
   "cell_type": "code",
   "execution_count": 5,
   "id": "7c731970",
   "metadata": {},
   "outputs": [
    {
     "data": {
      "text/html": [
       "<div>\n",
       "<style scoped>\n",
       "    .dataframe tbody tr th:only-of-type {\n",
       "        vertical-align: middle;\n",
       "    }\n",
       "\n",
       "    .dataframe tbody tr th {\n",
       "        vertical-align: top;\n",
       "    }\n",
       "\n",
       "    .dataframe thead th {\n",
       "        text-align: right;\n",
       "    }\n",
       "</style>\n",
       "<table border=\"1\" class=\"dataframe\">\n",
       "  <thead>\n",
       "    <tr style=\"text-align: right;\">\n",
       "      <th></th>\n",
       "      <th>age</th>\n",
       "      <th>Medu</th>\n",
       "      <th>Fedu</th>\n",
       "      <th>traveltime</th>\n",
       "      <th>studytime</th>\n",
       "      <th>failures</th>\n",
       "      <th>famrel</th>\n",
       "      <th>freetime</th>\n",
       "      <th>goout</th>\n",
       "      <th>Dalc</th>\n",
       "      <th>Walc</th>\n",
       "      <th>health</th>\n",
       "      <th>absences</th>\n",
       "      <th>G1</th>\n",
       "      <th>G2</th>\n",
       "      <th>G3</th>\n",
       "    </tr>\n",
       "  </thead>\n",
       "  <tbody>\n",
       "    <tr>\n",
       "      <th>count</th>\n",
       "      <td>248.000000</td>\n",
       "      <td>248.000000</td>\n",
       "      <td>248.000000</td>\n",
       "      <td>248.000000</td>\n",
       "      <td>248.000000</td>\n",
       "      <td>248.000000</td>\n",
       "      <td>248.000000</td>\n",
       "      <td>248.000000</td>\n",
       "      <td>248.000000</td>\n",
       "      <td>248.000000</td>\n",
       "      <td>248.000000</td>\n",
       "      <td>248.000000</td>\n",
       "      <td>248.000000</td>\n",
       "      <td>248.000000</td>\n",
       "      <td>248.000000</td>\n",
       "      <td>248.000000</td>\n",
       "    </tr>\n",
       "    <tr>\n",
       "      <th>mean</th>\n",
       "      <td>16.810484</td>\n",
       "      <td>2.661290</td>\n",
       "      <td>2.435484</td>\n",
       "      <td>1.512097</td>\n",
       "      <td>1.967742</td>\n",
       "      <td>0.318548</td>\n",
       "      <td>3.814516</td>\n",
       "      <td>3.173387</td>\n",
       "      <td>3.266129</td>\n",
       "      <td>1.782258</td>\n",
       "      <td>2.564516</td>\n",
       "      <td>3.471774</td>\n",
       "      <td>5.250000</td>\n",
       "      <td>10.891129</td>\n",
       "      <td>10.927419</td>\n",
       "      <td>11.052419</td>\n",
       "    </tr>\n",
       "    <tr>\n",
       "      <th>std</th>\n",
       "      <td>1.149005</td>\n",
       "      <td>1.115856</td>\n",
       "      <td>1.081624</td>\n",
       "      <td>0.763445</td>\n",
       "      <td>0.848294</td>\n",
       "      <td>0.719409</td>\n",
       "      <td>0.976376</td>\n",
       "      <td>1.078957</td>\n",
       "      <td>1.138995</td>\n",
       "      <td>1.159788</td>\n",
       "      <td>1.424152</td>\n",
       "      <td>1.450677</td>\n",
       "      <td>8.235526</td>\n",
       "      <td>2.862617</td>\n",
       "      <td>3.017287</td>\n",
       "      <td>3.708137</td>\n",
       "    </tr>\n",
       "    <tr>\n",
       "      <th>min</th>\n",
       "      <td>15.000000</td>\n",
       "      <td>0.000000</td>\n",
       "      <td>1.000000</td>\n",
       "      <td>1.000000</td>\n",
       "      <td>1.000000</td>\n",
       "      <td>0.000000</td>\n",
       "      <td>1.000000</td>\n",
       "      <td>1.000000</td>\n",
       "      <td>1.000000</td>\n",
       "      <td>1.000000</td>\n",
       "      <td>1.000000</td>\n",
       "      <td>1.000000</td>\n",
       "      <td>0.000000</td>\n",
       "      <td>4.000000</td>\n",
       "      <td>0.000000</td>\n",
       "      <td>0.000000</td>\n",
       "    </tr>\n",
       "    <tr>\n",
       "      <th>25%</th>\n",
       "      <td>16.000000</td>\n",
       "      <td>2.000000</td>\n",
       "      <td>2.000000</td>\n",
       "      <td>1.000000</td>\n",
       "      <td>1.000000</td>\n",
       "      <td>0.000000</td>\n",
       "      <td>3.000000</td>\n",
       "      <td>2.000000</td>\n",
       "      <td>2.000000</td>\n",
       "      <td>1.000000</td>\n",
       "      <td>1.000000</td>\n",
       "      <td>2.000000</td>\n",
       "      <td>0.000000</td>\n",
       "      <td>9.000000</td>\n",
       "      <td>9.000000</td>\n",
       "      <td>10.000000</td>\n",
       "    </tr>\n",
       "    <tr>\n",
       "      <th>50%</th>\n",
       "      <td>17.000000</td>\n",
       "      <td>3.000000</td>\n",
       "      <td>2.000000</td>\n",
       "      <td>1.000000</td>\n",
       "      <td>2.000000</td>\n",
       "      <td>0.000000</td>\n",
       "      <td>4.000000</td>\n",
       "      <td>3.000000</td>\n",
       "      <td>3.000000</td>\n",
       "      <td>1.000000</td>\n",
       "      <td>2.000000</td>\n",
       "      <td>4.000000</td>\n",
       "      <td>2.000000</td>\n",
       "      <td>11.000000</td>\n",
       "      <td>11.000000</td>\n",
       "      <td>11.000000</td>\n",
       "    </tr>\n",
       "    <tr>\n",
       "      <th>75%</th>\n",
       "      <td>18.000000</td>\n",
       "      <td>4.000000</td>\n",
       "      <td>3.000000</td>\n",
       "      <td>2.000000</td>\n",
       "      <td>2.000000</td>\n",
       "      <td>0.000000</td>\n",
       "      <td>4.000000</td>\n",
       "      <td>4.000000</td>\n",
       "      <td>4.000000</td>\n",
       "      <td>2.000000</td>\n",
       "      <td>4.000000</td>\n",
       "      <td>5.000000</td>\n",
       "      <td>6.500000</td>\n",
       "      <td>13.000000</td>\n",
       "      <td>13.000000</td>\n",
       "      <td>13.250000</td>\n",
       "    </tr>\n",
       "    <tr>\n",
       "      <th>max</th>\n",
       "      <td>19.000000</td>\n",
       "      <td>4.000000</td>\n",
       "      <td>4.000000</td>\n",
       "      <td>4.000000</td>\n",
       "      <td>4.000000</td>\n",
       "      <td>3.000000</td>\n",
       "      <td>5.000000</td>\n",
       "      <td>5.000000</td>\n",
       "      <td>5.000000</td>\n",
       "      <td>5.000000</td>\n",
       "      <td>5.000000</td>\n",
       "      <td>5.000000</td>\n",
       "      <td>75.000000</td>\n",
       "      <td>19.000000</td>\n",
       "      <td>18.000000</td>\n",
       "      <td>19.000000</td>\n",
       "    </tr>\n",
       "  </tbody>\n",
       "</table>\n",
       "</div>"
      ],
      "text/plain": [
       "              age        Medu        Fedu  traveltime   studytime    failures  \\\n",
       "count  248.000000  248.000000  248.000000  248.000000  248.000000  248.000000   \n",
       "mean    16.810484    2.661290    2.435484    1.512097    1.967742    0.318548   \n",
       "std      1.149005    1.115856    1.081624    0.763445    0.848294    0.719409   \n",
       "min     15.000000    0.000000    1.000000    1.000000    1.000000    0.000000   \n",
       "25%     16.000000    2.000000    2.000000    1.000000    1.000000    0.000000   \n",
       "50%     17.000000    3.000000    2.000000    1.000000    2.000000    0.000000   \n",
       "75%     18.000000    4.000000    3.000000    2.000000    2.000000    0.000000   \n",
       "max     19.000000    4.000000    4.000000    4.000000    4.000000    3.000000   \n",
       "\n",
       "           famrel    freetime       goout        Dalc        Walc      health  \\\n",
       "count  248.000000  248.000000  248.000000  248.000000  248.000000  248.000000   \n",
       "mean     3.814516    3.173387    3.266129    1.782258    2.564516    3.471774   \n",
       "std      0.976376    1.078957    1.138995    1.159788    1.424152    1.450677   \n",
       "min      1.000000    1.000000    1.000000    1.000000    1.000000    1.000000   \n",
       "25%      3.000000    2.000000    2.000000    1.000000    1.000000    2.000000   \n",
       "50%      4.000000    3.000000    3.000000    1.000000    2.000000    4.000000   \n",
       "75%      4.000000    4.000000    4.000000    2.000000    4.000000    5.000000   \n",
       "max      5.000000    5.000000    5.000000    5.000000    5.000000    5.000000   \n",
       "\n",
       "         absences          G1          G2          G3  \n",
       "count  248.000000  248.000000  248.000000  248.000000  \n",
       "mean     5.250000   10.891129   10.927419   11.052419  \n",
       "std      8.235526    2.862617    3.017287    3.708137  \n",
       "min      0.000000    4.000000    0.000000    0.000000  \n",
       "25%      0.000000    9.000000    9.000000   10.000000  \n",
       "50%      2.000000   11.000000   11.000000   11.000000  \n",
       "75%      6.500000   13.000000   13.000000   13.250000  \n",
       "max     75.000000   19.000000   18.000000   19.000000  "
      ]
     },
     "execution_count": 5,
     "metadata": {},
     "output_type": "execute_result"
    }
   ],
   "source": [
    "df.describe()"
   ]
  },
  {
   "cell_type": "code",
   "execution_count": null,
   "id": "53c561a6",
   "metadata": {},
   "outputs": [],
   "source": []
  },
  {
   "cell_type": "code",
   "execution_count": 6,
   "id": "1b844491",
   "metadata": {},
   "outputs": [
    {
     "name": "stdout",
     "output_type": "stream",
     "text": [
      "Rows and Columns : (248, 33) \n",
      "\n"
     ]
    }
   ],
   "source": [
    "print('Rows and Columns :', df.shape,'\\n' ) \n",
    "\n",
    "#Running info on the dataset to check on the any visible missing values and datatypes\n",
    "#print('INFO:')\n",
    "#print(df.info(), '\\n')\n",
    "\n",
    "# Checking for the number of unique values in each column in dataset\n",
    "# print('Unique Values :','\\n', df.nunique(), '\\n')"
   ]
  },
  {
   "cell_type": "code",
   "execution_count": 7,
   "id": "b0de92bd",
   "metadata": {},
   "outputs": [],
   "source": [
    "# Converting all binary non-numeric variables to numeric variables to allow for easy data processing\n",
    "\n",
    "df.loc[df['school']=='GP', 'school'] = 1\n",
    "df.loc[df['school']=='MS', 'school'] = 0\n",
    "\n",
    "df.loc[df['sex']=='F', 'sex'] = 1\n",
    "df.loc[df['sex']=='M', 'sex'] = 0\n",
    "\n",
    "df.loc[df['address']=='R', 'address'] = 1\n",
    "df.loc[df['address']=='U', 'address'] = 0\n",
    "\n",
    "df.loc[df['famsize']=='GT3', 'famsize'] = 1\n",
    "df.loc[df['famsize']=='LE3', 'famsize'] = 0\n",
    "\n",
    "df.loc[df['Pstatus']=='T', 'Pstatus'] = 1\n",
    "df.loc[df['Pstatus']=='A', 'Pstatus'] = 0\n",
    "\n",
    "df.loc[df['schoolsup']=='yes', 'schoolsup'] = 1\n",
    "df.loc[df['schoolsup']=='no', 'schoolsup'] = 0\n",
    "\n",
    "df.loc[df['famsup']=='yes', 'famsup'] = 1\n",
    "df.loc[df['famsup']=='no', 'famsup'] = 0\n",
    "\n",
    "df.loc[df['paid']=='yes', 'paid'] = 1\n",
    "df.loc[df['paid']=='no', 'paid'] = 0\n",
    "\n",
    "df.loc[df['activities']=='yes', 'activities'] = 1\n",
    "df.loc[df['activities']=='no', 'activities'] = 0\n",
    "\n",
    "df.loc[df['nursery']=='yes', 'nursery'] = 1\n",
    "df.loc[df['nursery']=='no', 'nursery'] = 0\n",
    "\n",
    "df.loc[df['higher']=='yes', 'higher'] = 1\n",
    "df.loc[df['higher']=='no', 'higher'] = 0\n",
    "\n",
    "df.loc[df['internet']=='yes', 'internet'] = 1\n",
    "df.loc[df['internet']=='no', 'internet'] = 0\n",
    "\n",
    "df.loc[df['romantic']=='yes', 'romantic'] = 1\n",
    "df.loc[df['romantic']=='no', 'romantic'] = 0"
   ]
  },
  {
   "cell_type": "code",
   "execution_count": 8,
   "id": "3978b8cd",
   "metadata": {},
   "outputs": [],
   "source": [
    "# Converting all nominal non-numeric variables to numeric variables to allow for easy data processing\n",
    "\n",
    "conditions=[df['Mjob'] == 'at_home',\n",
    "          df['Mjob'] == 'services',\n",
    "          df['Mjob'] == 'teacher',\n",
    "          df['Mjob'] == 'health',\n",
    "           df['Mjob']== 'other']\n",
    "choices = [1,2,3,4,5]\n",
    "df['Mjob'] = np.select(conditions, choices)\n",
    "\n",
    "conditions=[df['Fjob'] == 'at_home',\n",
    "          df['Fjob'] == 'services',\n",
    "          df['Fjob'] == 'teacher',\n",
    "          df['Fjob'] == 'health',\n",
    "           df['Fjob']== 'other']\n",
    "choices = [1,2,3,4,5]\n",
    "df['Fjob'] = np.select(conditions, choices)\n",
    "\n",
    "conditions=[df['reason'] == 'home',\n",
    "          df['reason'] == 'reputation',\n",
    "          df['reason'] == 'course',\n",
    "           df['reason']== 'other']\n",
    "choices = [1,2,3,4]\n",
    "df['reason'] = np.select(conditions, choices)\n",
    "\n",
    "conditions=[df['guardian'] == 'father',\n",
    "          df['guardian'] == 'mother',\n",
    "          df['guardian'] == 'other']\n",
    "choices = [1,2,3]\n",
    "df['guardian'] = np.select(conditions, choices)"
   ]
  },
  {
   "cell_type": "code",
   "execution_count": 9,
   "id": "3025c828",
   "metadata": {},
   "outputs": [],
   "source": [
    "for i in df:\n",
    "    df[i] = df[i].astype(int)"
   ]
  },
  {
   "cell_type": "code",
   "execution_count": 10,
   "id": "21612c76",
   "metadata": {},
   "outputs": [
    {
     "data": {
      "text/plain": [
       "school        int32\n",
       "sex           int32\n",
       "age           int32\n",
       "address       int32\n",
       "famsize       int32\n",
       "Pstatus       int32\n",
       "Medu          int32\n",
       "Fedu          int32\n",
       "Mjob          int32\n",
       "Fjob          int32\n",
       "reason        int32\n",
       "guardian      int32\n",
       "traveltime    int32\n",
       "studytime     int32\n",
       "failures      int32\n",
       "schoolsup     int32\n",
       "famsup        int32\n",
       "paid          int32\n",
       "activities    int32\n",
       "nursery       int32\n",
       "higher        int32\n",
       "internet      int32\n",
       "romantic      int32\n",
       "famrel        int32\n",
       "freetime      int32\n",
       "goout         int32\n",
       "Dalc          int32\n",
       "Walc          int32\n",
       "health        int32\n",
       "absences      int32\n",
       "G1            int32\n",
       "G2            int32\n",
       "G3            int32\n",
       "dtype: object"
      ]
     },
     "execution_count": 10,
     "metadata": {},
     "output_type": "execute_result"
    }
   ],
   "source": [
    "df.dtypes"
   ]
  },
  {
   "cell_type": "code",
   "execution_count": null,
   "id": "8b75e305",
   "metadata": {},
   "outputs": [],
   "source": []
  },
  {
   "cell_type": "code",
   "execution_count": 11,
   "id": "2caa31dd",
   "metadata": {
    "scrolled": true
   },
   "outputs": [],
   "source": [
    "df['week_alc']= (df['Dalc']*5+df['Walc']*2)/7\n",
    "#df['week_alc'].value_counts()"
   ]
  },
  {
   "cell_type": "code",
   "execution_count": 12,
   "id": "0fb6ee1e",
   "metadata": {},
   "outputs": [
    {
     "data": {
      "text/plain": [
       "5.0"
      ]
     },
     "execution_count": 12,
     "metadata": {},
     "output_type": "execute_result"
    }
   ],
   "source": [
    "df['week_alc'].max()"
   ]
  },
  {
   "cell_type": "code",
   "execution_count": 13,
   "id": "a746ec06",
   "metadata": {},
   "outputs": [
    {
     "name": "stdout",
     "output_type": "stream",
     "text": [
      "0    194\n",
      "1     54\n",
      "Name: alc, dtype: int64\n",
      "0    0.782258\n",
      "1    0.217742\n",
      "Name: alc, dtype: float64\n"
     ]
    },
    {
     "data": {
      "text/plain": [
       "Text(0.5, 1.0, 'Distribution of Light drinkers vs Heavy Drinkers  ')"
      ]
     },
     "execution_count": 13,
     "metadata": {},
     "output_type": "execute_result"
    },
    {
     "data": {
      "image/png": "[encoded data removed]",
      "text/plain": [
       "<Figure size 500x500 with 1 Axes>"
      ]
     },
     "metadata": {},
     "output_type": "display_data"
    }
   ],
   "source": [
    "df['alc'] = [0 if x <= 3 else 1 for x in df['week_alc']]\n",
    "        \n",
    "print(df['alc'].value_counts())\n",
    "print(df['alc'].value_counts(normalize = True))\n",
    "\n",
    "\n",
    "sns.catplot(x=\"alc\", kind=\"count\", palette=\"ch:.25\", data=df)\n",
    "plt.title('Distribution of Light drinkers vs Heavy Drinkers  ')"
   ]
  },
  {
   "cell_type": "code",
   "execution_count": 14,
   "id": "d9f2bee7",
   "metadata": {},
   "outputs": [
    {
     "data": {
      "text/plain": [
       "30"
      ]
     },
     "execution_count": 14,
     "metadata": {},
     "output_type": "execute_result"
    }
   ],
   "source": [
    "X_df = df.drop(columns = ['Dalc', 'Walc', 'week_alc', 'alc','school'], axis = 1) # grabs everything else but 'default column'\n",
    "y = df['alc']\n",
    "orig_feats = list(X_df.columns)\n",
    "len(orig_feats)"
   ]
  },
  {
   "cell_type": "code",
   "execution_count": 15,
   "id": "b40aaefa",
   "metadata": {},
   "outputs": [],
   "source": [
    "def graph(col):\n",
    "    fig, ax = plt.subplots(1, 2, figsize= (10,6))\n",
    "    sns.despine(right=True)\n",
    "    sns.countplot(x=col, data=df,  ax = ax[0])\n",
    "    sns.barplot(x=col, y = 'week_alc', data=df,  ax = ax[1])"
   ]
  },
  {
   "cell_type": "code",
   "execution_count": 16,
   "id": "f930227b",
   "metadata": {},
   "outputs": [
    {
     "data": {
      "image/png": "[encoded data removed]",
      "text/plain": [
       "<Figure size 1000x600 with 2 Axes>"
      ]
     },
     "metadata": {},
     "output_type": "display_data"
    }
   ],
   "source": [
    "df['stability'] = (df['famrel'] * df['famsize'])//2\n",
    "graph('stability')"
   ]
  },
  {
   "cell_type": "code",
   "execution_count": 17,
   "id": "5d7bc744",
   "metadata": {},
   "outputs": [],
   "source": [
    "#df['stability']= [0 if x <= 3 else 1 for x in df['stability']]\n"
   ]
  },
  {
   "cell_type": "code",
   "execution_count": 18,
   "id": "f2bfdb22",
   "metadata": {},
   "outputs": [],
   "source": [
    "df['academic_support'] = df.famsup + df.schoolsup+df.higher"
   ]
  },
  {
   "cell_type": "code",
   "execution_count": 19,
   "id": "4e454a75",
   "metadata": {},
   "outputs": [
    {
     "data": {
      "image/png": "[encoded data removed]",
      "text/plain": [
       "<Figure size 1000x600 with 2 Axes>"
      ]
     },
     "metadata": {},
     "output_type": "display_data"
    }
   ],
   "source": [
    "#df.higher\n",
    "graph('academic_support')\n"
   ]
  },
  {
   "cell_type": "code",
   "execution_count": 20,
   "id": "adda08cd",
   "metadata": {},
   "outputs": [],
   "source": [
    "df['idle'] = (df.goout+df.freetime)//3"
   ]
  },
  {
   "cell_type": "code",
   "execution_count": 21,
   "id": "0d218dfa",
   "metadata": {
    "scrolled": true
   },
   "outputs": [
    {
     "data": {
      "image/png": "[encoded data removed]",
      "text/plain": [
       "<Figure size 1000x600 with 2 Axes>"
      ]
     },
     "metadata": {},
     "output_type": "display_data"
    }
   ],
   "source": [
    "graph('idle')"
   ]
  },
  {
   "cell_type": "code",
   "execution_count": 22,
   "id": "a6d68348",
   "metadata": {},
   "outputs": [],
   "source": [
    "df['grade_avg'] = round((df.G1 + df.G2 + df.G3)/3, 2)"
   ]
  },
  {
   "cell_type": "code",
   "execution_count": 23,
   "id": "73d1294e",
   "metadata": {},
   "outputs": [],
   "source": [
    "df['delinquency'] = ((df['failures']) * df['absences'])"
   ]
  },
  {
   "cell_type": "code",
   "execution_count": 24,
   "id": "dfa269ea",
   "metadata": {},
   "outputs": [
    {
     "data": {
      "image/png": "[encoded data removed]",
      "text/plain": [
       "<Figure size 1000x600 with 2 Axes>"
      ]
     },
     "metadata": {},
     "output_type": "display_data"
    }
   ],
   "source": [
    "graph('delinquency')"
   ]
  },
  {
   "cell_type": "code",
   "execution_count": 25,
   "id": "02994eb9",
   "metadata": {},
   "outputs": [],
   "source": [
    "df_cp = df.copy()"
   ]
  },
  {
   "cell_type": "code",
   "execution_count": 26,
   "id": "57fb867a",
   "metadata": {},
   "outputs": [],
   "source": [
    "df.drop(columns = ['week_alc', 'Dalc', 'Walc','alc'], axis = 1, inplace = True)\n"
   ]
  },
  {
   "cell_type": "code",
   "execution_count": 27,
   "id": "73031c11",
   "metadata": {},
   "outputs": [],
   "source": [
    "X = df\n"
   ]
  },
  {
   "cell_type": "code",
   "execution_count": 28,
   "id": "770b998e",
   "metadata": {},
   "outputs": [
    {
     "name": "stdout",
     "output_type": "stream",
     "text": [
      "(248, 36)\n",
      "(248,)\n"
     ]
    }
   ],
   "source": [
    "print(X.shape)\n",
    "print(y.shape)"
   ]
  },
  {
   "cell_type": "code",
   "execution_count": 29,
   "id": "89358db6",
   "metadata": {},
   "outputs": [
    {
     "name": "stdout",
     "output_type": "stream",
     "text": [
      "Training set - Features:  (198, 36) Target:  (198,)\n",
      "Test set - Features:  (50, 36) Target:  (50,)\n",
      "0    0.762626\n",
      "1    0.237374\n",
      "Name: alc, dtype: float64\n",
      "0    0.86\n",
      "1    0.14\n",
      "Name: alc, dtype: float64\n"
     ]
    }
   ],
   "source": [
    "#performing train-test split on main dataframe\n",
    "X_train, X_test, y_train, y_test = train_test_split(X, y, random_state=10, test_size=0.2)\n",
    "\n",
    "#checking the shape of the training set and test set\n",
    "print(\"Training set - Features: \", X_train.shape, \"Target: \", y_train.shape,)\n",
    "print(\"Test set - Features: \", X_test.shape, \"Target: \",y_test.shape,)\n",
    "print(y_train.value_counts(normalize = True))\n",
    "print(y_test.value_counts(normalize = True))"
   ]
  },
  {
   "cell_type": "code",
   "execution_count": 30,
   "id": "62afd46b",
   "metadata": {},
   "outputs": [],
   "source": [
    "# concatenate our training data back together\n",
    "training  = pd.concat([X_train, y_train], axis=1)"
   ]
  },
  {
   "cell_type": "code",
   "execution_count": 31,
   "id": "bd284ee3",
   "metadata": {},
   "outputs": [
    {
     "name": "stdout",
     "output_type": "stream",
     "text": [
      "light drinker count: 151\n",
      "heavy drinker count: 47\n"
     ]
    }
   ],
   "source": [
    "# separate minority and majority classes\n",
    "light_drinker = training[training.alc==0]\n",
    "heavy_drinker = training[training.alc==1]\n",
    "\n",
    "# Get a class count to understand the class imbalance.\n",
    "print('light drinker count: '+ str(len(light_drinker)))\n",
    "print('heavy drinker count: '+ str(len(heavy_drinker)))"
   ]
  },
  {
   "cell_type": "code",
   "execution_count": 32,
   "id": "7da9bacc",
   "metadata": {},
   "outputs": [],
   "source": [
    "from sklearn.utils import resample"
   ]
  },
  {
   "cell_type": "code",
   "execution_count": 33,
   "id": "fbfa2dbe",
   "metadata": {},
   "outputs": [
    {
     "data": {
      "text/plain": [
       "(151, 37)"
      ]
     },
     "execution_count": 33,
     "metadata": {},
     "output_type": "execute_result"
    }
   ],
   "source": [
    "# upsample minority\n",
    "heavy_drinker_upsampled = resample(heavy_drinker,\n",
    "                          replace=True, # sample with replacement\n",
    "                          n_samples=len(light_drinker), # match number in majority class\n",
    "                          random_state=25) # reproducible results\n",
    "heavy_drinker_upsampled.shape"
   ]
  },
  {
   "cell_type": "code",
   "execution_count": 34,
   "id": "9199b70a",
   "metadata": {},
   "outputs": [
    {
     "data": {
      "text/plain": [
       "0    151\n",
       "1    151\n",
       "Name: alc, dtype: int64"
      ]
     },
     "execution_count": 34,
     "metadata": {},
     "output_type": "execute_result"
    }
   ],
   "source": [
    "# combine majority and upsampled minority\n",
    "upsampled = pd.concat([light_drinker, heavy_drinker_upsampled])\n",
    "\n",
    "# check new class counts\n",
    "upsampled.alc.value_counts()\n"
   ]
  },
  {
   "cell_type": "code",
   "execution_count": 35,
   "id": "5ae9578c",
   "metadata": {},
   "outputs": [],
   "source": [
    "#upsampled.info()"
   ]
  },
  {
   "cell_type": "code",
   "execution_count": 36,
   "id": "d60c4c50",
   "metadata": {},
   "outputs": [
    {
     "data": {
      "text/plain": [
       "(302, 36)"
      ]
     },
     "execution_count": 36,
     "metadata": {},
     "output_type": "execute_result"
    }
   ],
   "source": [
    "# trying logistic regression again with the balanced dataset\n",
    "y_train_up = upsampled.alc\n",
    "X_train_up = upsampled.drop(columns = 'alc', axis=1)\n",
    "#X_train_up.drop(columns = dummy_feats, axis=1, inplace=True)\n",
    "X_train_up.shape\n",
    "#print(y_train_up.value_counts(normalize = True))\n",
    "#print(X_train_up.value_counts(normalize = True))\n",
    "\n"
   ]
  },
  {
   "cell_type": "code",
   "execution_count": 37,
   "id": "9507af9c",
   "metadata": {},
   "outputs": [
    {
     "name": "stdout",
     "output_type": "stream",
     "text": [
      "(302, 10) (50, 10)\n"
     ]
    }
   ],
   "source": [
    "#setting parameters to choose the best 10 variables based on the significance of the variable F stat\n",
    "selector = SelectKBest(f_classif, k=10) #setting parameters to choose the best 10 variables based on the significance of the variable F stat\n",
    "\n",
    "#Fitting selector object to training set\n",
    "selector.fit(X_train_up, y_train_up)\n",
    "\n",
    "selected_columns = X_train_up.columns[selector.get_support()]\n",
    "removed_columns = X_train_up.columns[~selector.get_support()]\n",
    "\n",
    "X_train = X_train_up[selected_columns]\n",
    "X_test = X_test[selected_columns]\n",
    "print(X_train.shape, X_test.shape)\n"
   ]
  },
  {
   "cell_type": "code",
   "execution_count": 38,
   "id": "b233eb91",
   "metadata": {},
   "outputs": [],
   "source": [
    "p,q = 0,0\n",
    "top = 0\n",
    "acc = 0\n",
    "\n",
    "for i in range(10,50):\n",
    "    for j in range(4,15):\n",
    "        classifier = RandomForestClassifier(random_state = 4,n_estimators = i,max_depth = j, min_samples_split =2 ,  min_samples_leaf = 1)\n",
    "        classifier.fit(X_train, y_train_up)\n",
    "        prediction = classifier.predict(X_test)\n",
    "        acc = accuracy_score(y_test, classifier.predict(X_test))\n",
    "        from sklearn.metrics import confusion_matrix, f1_score, accuracy_score\n",
    "    \n",
    "        if acc>top:\n",
    "            top = acc\n",
    "            p,q = i,j\n",
    "        "
   ]
  },
  {
   "cell_type": "markdown",
   "id": "b736f951",
   "metadata": {},
   "source": [
    "# Random Forest Classifier"
   ]
  },
  {
   "cell_type": "code",
   "execution_count": 39,
   "id": "b201ae11",
   "metadata": {},
   "outputs": [
    {
     "name": "stdout",
     "output_type": "stream",
     "text": [
      "\n",
      "Accuracy of Random Forest classifier: 0.940 \n",
      "\n",
      "Confusion Matrix: \n",
      "\n",
      "[[42  1]\n",
      " [ 2  5]]\n"
     ]
    }
   ],
   "source": [
    "classifier = RandomForestClassifier(random_state = 4,n_estimators = p,max_depth = q, min_samples_split =2 ,  min_samples_leaf = 1)\n",
    "\n",
    "classifier.fit(X_train, y_train_up)\n",
    "\n",
    "pred_test = classifier.predict(X_test)\n",
    "pred_train = classifier.predict(X_train)\n",
    "print()\n",
    "\n",
    "from sklearn.metrics import confusion_matrix, f1_score, accuracy_score\n",
    "print('Accuracy of Random Forest classifier: {:.3f} \\n'.format(accuracy_score(y_test,pred_test)))\n",
    "print(\"Confusion Matrix: \\n\")\n",
    "print(confusion_matrix(y_test, pred_test))"
   ]
  },
  {
   "cell_type": "markdown",
   "id": "b6e9beff",
   "metadata": {},
   "source": [
    "# Decision Trees Classifier"
   ]
  },
  {
   "cell_type": "code",
   "execution_count": 42,
   "id": "9aea05d9",
   "metadata": {},
   "outputs": [
    {
     "name": "stdout",
     "output_type": "stream",
     "text": [
      "\n",
      "Accuracy of : 0.780 \n",
      "\n",
      "Confusion Matrix: \n",
      "\n",
      "[[34  9]\n",
      " [ 2  5]]\n"
     ]
    }
   ],
   "source": [
    "classifier = DecisionTreeClassifier(max_depth=15)\n",
    "classifier.fit(X_train, y_train_up)\n",
    "\n",
    "pred_test = classifier.predict(X_test)\n",
    "pred_train = classifier.predict(X_train)\n",
    "print()\n",
    "\n",
    "from sklearn.metrics import confusion_matrix, f1_score, accuracy_score\n",
    "print('Accuracy of : {:.3f} \\n'.format(accuracy_score(y_test,pred_test)))\n",
    "print(\"Confusion Matrix: \\n\")\n",
    "print(confusion_matrix(y_test, pred_test))"
   ]
  },
  {
   "cell_type": "markdown",
   "id": "a241609d",
   "metadata": {},
   "source": [
    "# Dependent Variables"
   ]
  },
  {
   "cell_type": "code",
   "execution_count": 41,
   "id": "7b2b54c7",
   "metadata": {},
   "outputs": [
    {
     "name": "stdout",
     "output_type": "stream",
     "text": [
      "<class 'pandas.core.frame.DataFrame'>\n",
      "Int64Index: 302 entries, 520 to 605\n",
      "Data columns (total 10 columns):\n",
      " #   Column      Non-Null Count  Dtype\n",
      "---  ------      --------------  -----\n",
      " 0   sex         302 non-null    int32\n",
      " 1   age         302 non-null    int32\n",
      " 2   famsize     302 non-null    int32\n",
      " 3   traveltime  302 non-null    int32\n",
      " 4   studytime   302 non-null    int32\n",
      " 5   goout       302 non-null    int32\n",
      " 6   absences    302 non-null    int32\n",
      " 7   G1          302 non-null    int32\n",
      " 8   stability   302 non-null    int32\n",
      " 9   idle        302 non-null    int32\n",
      "dtypes: int32(10)\n",
      "memory usage: 14.2 KB\n"
     ]
    }
   ],
   "source": [
    "X_train.info()"
   ]
  },
  {
   "cell_type": "code",
   "execution_count": null,
   "id": "64e36dcd",
   "metadata": {},
   "outputs": [],
   "source": []
  },
  {
   "cell_type": "code",
   "execution_count": null,
   "id": "8722a93d",
   "metadata": {},
   "outputs": [],
   "source": []
  }
 ],
 "metadata": {
  "kernelspec": {
   "display_name": "Python 3 (ipykernel)",
   "language": "python",
   "name": "python3"
  },
  "language_info": {
   "codemirror_mode": {
    "name": "ipython",
    "version": 3
   },
   "file_extension": ".py",
   "mimetype": "text/x-python",
   "name": "python",
   "nbconvert_exporter": "python",
   "pygments_lexer": "ipython3",
   "version": "3.10.7"
  }
 },
 "nbformat": 4,
 "nbformat_minor": 5
}
